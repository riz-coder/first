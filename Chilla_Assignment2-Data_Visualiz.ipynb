{
 "cells": [
  {
   "cell_type": "code",
   "execution_count": 1,
   "id": "bd6b0ad7",
   "metadata": {},
   "outputs": [],
   "source": [
    "#Importing the Libs\n",
    "from numpy import median\n",
    "import pandas as pd\n",
    "import matplotlib.pyplot as plt\n",
    "import seaborn as sns\n",
    "%matplotlib inline"
   ]
  },
  {
   "cell_type": "code",
   "execution_count": 2,
   "id": "9abf61a0",
   "metadata": {},
   "outputs": [
    {
     "data": {
      "text/html": [
       "<div>\n",
       "<style scoped>\n",
       "    .dataframe tbody tr th:only-of-type {\n",
       "        vertical-align: middle;\n",
       "    }\n",
       "\n",
       "    .dataframe tbody tr th {\n",
       "        vertical-align: top;\n",
       "    }\n",
       "\n",
       "    .dataframe thead th {\n",
       "        text-align: right;\n",
       "    }\n",
       "</style>\n",
       "<table border=\"1\" class=\"dataframe\">\n",
       "  <thead>\n",
       "    <tr style=\"text-align: right;\">\n",
       "      <th></th>\n",
       "      <th>Gender</th>\n",
       "      <th>Location</th>\n",
       "      <th>Age</th>\n",
       "      <th>Qualification_completed</th>\n",
       "      <th>field_of_study</th>\n",
       "      <th>Purpose_for_chilla</th>\n",
       "      <th>What_are_you?</th>\n",
       "      <th>Blood_group</th>\n",
       "      <th>Which_mobile_sim_do_you_use</th>\n",
       "      <th>Prepaid_Postpaid</th>\n",
       "      <th>...</th>\n",
       "      <th>Fvrt_Program_Lng</th>\n",
       "      <th>Marital_Status?</th>\n",
       "      <th>Vaccinated_or_Not</th>\n",
       "      <th>Rural_Urban</th>\n",
       "      <th>Research_Working_Exp</th>\n",
       "      <th>Age_Years</th>\n",
       "      <th>Your_Weight_Kg</th>\n",
       "      <th>Height</th>\n",
       "      <th>Code_Time</th>\n",
       "      <th>Load_Shedding_Time</th>\n",
       "    </tr>\n",
       "  </thead>\n",
       "  <tbody>\n",
       "    <tr>\n",
       "      <th>0</th>\n",
       "      <td>Male</td>\n",
       "      <td>Pakistan</td>\n",
       "      <td>36-40</td>\n",
       "      <td>Masters</td>\n",
       "      <td>Natural Sciences</td>\n",
       "      <td>to boost my skill set</td>\n",
       "      <td>Unemplyed</td>\n",
       "      <td>B+</td>\n",
       "      <td>U-fone</td>\n",
       "      <td>Prepaid</td>\n",
       "      <td>...</td>\n",
       "      <td>Python</td>\n",
       "      <td>Yes</td>\n",
       "      <td>Yes</td>\n",
       "      <td>Urbun</td>\n",
       "      <td>5</td>\n",
       "      <td>38.0</td>\n",
       "      <td>77.0</td>\n",
       "      <td>179.0</td>\n",
       "      <td>3</td>\n",
       "      <td>2</td>\n",
       "    </tr>\n",
       "    <tr>\n",
       "      <th>1</th>\n",
       "      <td>Male</td>\n",
       "      <td>Pakistan</td>\n",
       "      <td>26-30</td>\n",
       "      <td>Bachelors</td>\n",
       "      <td>CS/IT</td>\n",
       "      <td>to boost my skill set</td>\n",
       "      <td>Student</td>\n",
       "      <td>B+</td>\n",
       "      <td>U-fone</td>\n",
       "      <td>Prepaid</td>\n",
       "      <td>...</td>\n",
       "      <td>Python</td>\n",
       "      <td>No</td>\n",
       "      <td>Yes</td>\n",
       "      <td>Urbun</td>\n",
       "      <td>1</td>\n",
       "      <td>25.0</td>\n",
       "      <td>53.6</td>\n",
       "      <td>178.0</td>\n",
       "      <td>2</td>\n",
       "      <td>6</td>\n",
       "    </tr>\n",
       "  </tbody>\n",
       "</table>\n",
       "<p>2 rows × 23 columns</p>\n",
       "</div>"
      ],
      "text/plain": [
       "  Gender  Location    Age Qualification_completed    field_of_study  \\\n",
       "0   Male  Pakistan  36-40                 Masters  Natural Sciences   \n",
       "1   Male  Pakistan  26-30               Bachelors             CS/IT   \n",
       "\n",
       "      Purpose_for_chilla What_are_you? Blood_group   \\\n",
       "0  to boost my skill set     Unemplyed           B+   \n",
       "1  to boost my skill set       Student           B+   \n",
       "\n",
       "  Which_mobile_sim_do_you_use Prepaid_Postpaid  ... Fvrt_Program_Lng  \\\n",
       "0                      U-fone          Prepaid  ...           Python   \n",
       "1                      U-fone          Prepaid  ...           Python   \n",
       "\n",
       "  Marital_Status? Vaccinated_or_Not Rural_Urban Research_Working_Exp  \\\n",
       "0             Yes               Yes       Urbun                    5   \n",
       "1              No               Yes       Urbun                    1   \n",
       "\n",
       "  Age_Years Your_Weight_Kg Height  Code_Time  Load_Shedding_Time  \n",
       "0      38.0           77.0  179.0          3                   2  \n",
       "1      25.0           53.6  178.0          2                   6  \n",
       "\n",
       "[2 rows x 23 columns]"
      ]
     },
     "execution_count": 2,
     "metadata": {},
     "output_type": "execute_result"
    }
   ],
   "source": [
    "#Let's import our Dataset\n",
    "df = pd.read_csv('Chilla_data2_for_plots.csv')\n",
    "df.head(2)"
   ]
  },
  {
   "cell_type": "code",
   "execution_count": 6,
   "id": "9fbae97d",
   "metadata": {},
   "outputs": [
    {
     "data": {
      "text/plain": [
       "0"
      ]
     },
     "execution_count": 6,
     "metadata": {},
     "output_type": "execute_result"
    }
   ],
   "source": [
    "#Let's do some data analystics and see if there is some missing values\n",
    "df.isnull().sum().sum()"
   ]
  },
  {
   "cell_type": "markdown",
   "id": "9bce7c1d",
   "metadata": {},
   "source": [
    "There is no missing values in this dataset,Let's move forward"
   ]
  },
  {
   "cell_type": "code",
   "execution_count": 12,
   "id": "99160ea3",
   "metadata": {},
   "outputs": [
    {
     "data": {
      "image/png": "[encoded data removed]",
      "text/plain": [
       "<Figure size 432x288 with 1 Axes>"
      ]
     },
     "metadata": {
      "needs_background": "light"
     },
     "output_type": "display_data"
    }
   ],
   "source": [
    "#Now let's check the Gender.\n",
    "sns.countplot(x='Gender', data=df)\n",
    "plt.title('GENDER GRAPH', size=15, weight=12)\n",
    "plt.ylabel('Number Of Students')\n",
    "plt.show()"
   ]
  },
  {
   "cell_type": "markdown",
   "id": "4887de54",
   "metadata": {},
   "source": [
    "As per last Poll, Male number of students are larger than Female"
   ]
  },
  {
   "cell_type": "code",
   "execution_count": 3,
   "id": "1c549150",
   "metadata": {},
   "outputs": [
    {
     "data": {
      "image/png": "[encoded data removed]",
      "text/plain": [
       "<Figure size 432x288 with 1 Axes>"
      ]
     },
     "metadata": {
      "needs_background": "light"
     },
     "output_type": "display_data"
    }
   ],
   "source": [
    "#Let's see the Gender wrt their Ages\n",
    "df[['Gender', 'Age']].value_counts().plot(kind='barh', color='red');\n",
    "plt.xlabel('Total Count', size=20)\n",
    "plt.ylabel('Gender wrt Thier Ages', size=16)\n",
    "plt.show()"
   ]
  },
  {
   "cell_type": "markdown",
   "id": "e0798f53",
   "metadata": {},
   "source": [
    "#### As per Graph, Most number of Male student's ages are lieing b/w 26-30, However a large number of Male students ages between 21-25 and 31-35 also enrolled. For Female student's same 26-30 are in large number. Atlast very few students enrolled in this course having age lesser than 16."
   ]
  },
  {
   "cell_type": "code",
   "execution_count": 37,
   "id": "dfc6d321",
   "metadata": {},
   "outputs": [
    {
     "data": {
      "image/png": "[encoded data removed]",
      "text/plain": [
       "<Figure size 432x288 with 1 Axes>"
      ]
     },
     "metadata": {
      "needs_background": "light"
     },
     "output_type": "display_data"
    }
   ],
   "source": [
    "#Now let's compare the student wrt Coutries\n",
    "sns.countplot(x='Location', data=df)\n",
    "plt.title('LOCATION GRAPH', size=15, weight=12)\n",
    "plt.ylabel('Number Of Students')\n",
    "plt.show()"
   ]
  },
  {
   "cell_type": "markdown",
   "id": "2d25b366",
   "metadata": {},
   "source": [
    "### Large number of Students are present in Pakistan, Now let's split them wrt Gender in next Graph"
   ]
  },
  {
   "cell_type": "code",
   "execution_count": 57,
   "id": "57b76820",
   "metadata": {
    "scrolled": true
   },
   "outputs": [
    {
     "data": {
      "image/png": "[encoded data removed]",
      "text/plain": [
       "<Figure size 432x288 with 1 Axes>"
      ]
     },
     "metadata": {
      "needs_background": "light"
     },
     "output_type": "display_data"
    }
   ],
   "source": [
    "df[['Gender', 'Location']].value_counts().plot(kind='bar', color='red');\n",
    "plt.title('LOCATION GRAPH', size=15, weight=12)\n",
    "plt.xlabel('')\n",
    "plt.ylabel('Number Of Students')\n",
    "plt.show()"
   ]
  },
  {
   "cell_type": "markdown",
   "id": "743d6e0d",
   "metadata": {},
   "source": [
    "### As we clearly seen that a large number of student(both male and female) are from Pakistan, However very few students from the other part of World and might be 1 or 2 Male student from India."
   ]
  },
  {
   "cell_type": "code",
   "execution_count": 65,
   "id": "83674ec0",
   "metadata": {},
   "outputs": [
    {
     "data": {
      "text/plain": [
       "Text(0, 0.5, 'Weight In Kg')"
      ]
     },
     "execution_count": 65,
     "metadata": {},
     "output_type": "execute_result"
    },
    {
     "data": {
      "image/png": "[encoded data removed]",
      "text/plain": [
       "<Figure size 432x288 with 1 Axes>"
      ]
     },
     "metadata": {
      "needs_background": "light"
     },
     "output_type": "display_data"
    }
   ],
   "source": [
    "#Now let's check the Fitness Level of Students :)\n",
    "sns.barplot(x='Age', y='Your_Weight_Kg', data=df, ci=None, order=['15-Jan', '16-20', '21-25', '26-30', '31-35', '36-40','41-45','46-60'])\n",
    "plt.xlabel('Age Range')\n",
    "plt.ylabel('Weight In Kg')"
   ]
  },
  {
   "cell_type": "markdown",
   "id": "e309deef",
   "metadata": {},
   "source": [
    "### Mash Allah All students are fit as per Weight and Their Ages"
   ]
  },
  {
   "cell_type": "code",
   "execution_count": 5,
   "id": "ed8382ba",
   "metadata": {},
   "outputs": [
    {
     "data": {
      "text/plain": [
       "Age    Gender\n",
       "26-30  Male      103\n",
       "21-25  Male       87\n",
       "31-35  Male       65\n",
       "26-30  Female     32\n",
       "21-25  Female     27\n",
       "16-20  Male       17\n",
       "36-40  Male       15\n",
       "31-35  Female     13\n",
       "41-45  Male        8\n",
       "16-20  Female      2\n",
       "46-60  Male        2\n",
       "15-20  Male        1\n",
       "36-40  Female      1\n",
       "41-45  Female      1\n",
       "46-60  Female      1\n",
       "dtype: int64"
      ]
     },
     "execution_count": 5,
     "metadata": {},
     "output_type": "execute_result"
    }
   ],
   "source": [
    "df[['Age', 'Gender']].value_counts()"
   ]
  },
  {
   "cell_type": "code",
   "execution_count": null,
   "id": "3a98b189",
   "metadata": {},
   "outputs": [],
   "source": [
    "\n"
   ]
  }
 ],
 "metadata": {
  "kernelspec": {
   "display_name": "Python 3 (ipykernel)",
   "language": "python",
   "name": "python3"
  },
  "language_info": {
   "codemirror_mode": {
    "name": "ipython",
    "version": 3
   },
   "file_extension": ".py",
   "mimetype": "text/x-python",
   "name": "python",
   "nbconvert_exporter": "python",
   "pygments_lexer": "ipython3",
   "version": "3.9.7"
  }
 },
 "nbformat": 4,
 "nbformat_minor": 5
}
